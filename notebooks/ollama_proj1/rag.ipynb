{
 "cells": [
  {
   "cell_type": "markdown",
   "metadata": {},
   "source": [
    "# Create an API Function\n"
   ]
  },
  {
   "cell_type": "code",
   "execution_count": 13,
   "metadata": {},
   "outputs": [],
   "source": [
    "from requests import post as rpost\n",
    "\n",
    "def call_llama(prompt):\n",
    "    headers = {\"Content-Type\": \"application/json\"}\n",
    "    payload = {\n",
    "        \"model\": \"llama3.1\",\n",
    "        \"prompt\": prompt,\n",
    "        \"stream\": False,\n",
    "    }\n",
    "\n",
    "    response = rpost(\n",
    "        \"http://localhost:11434/api/generate\",\n",
    "        headers=headers,\n",
    "        json=payload\n",
    "    )\n",
    "    return response.json()[\"response\"]\n",
    "\n",
    "# or use ollama python library "
   ]
  },
  {
   "cell_type": "code",
   "execution_count": 12,
   "metadata": {},
   "outputs": [
    {
     "data": {
      "text/plain": [
       "'The color of the sky can vary depending on several factors, but in general, it\\'s not actually blue. Here are a few reasons why we might perceive the sky as blue:\\n\\n1. **Atmospheric scattering**: When sunlight enters Earth\\'s atmosphere, it encounters tiny molecules of gases such as nitrogen and oxygen. These molecules scatter the shorter (blue) wavelengths of light more than the longer (red) wavelengths, giving the sky its blue appearance.\\n2. **Refraction**: As light passes through the atmosphere, it is refracted, or bent, which can also contribute to the sky\\'s color. However, this effect is relatively small compared to scattering.\\n3. **Perception**: Our eyes and brains play a significant role in how we perceive the color of the sky. The blue color we see is an interpretation of the scattered light by our visual system.\\n\\nNow, why might the sky appear more vividly blue on certain days?\\n\\n1. **Cleaner atmosphere**: When there are fewer particles in the air (e.g., after a rain shower or when it\\'s a calm day), less light is absorbed and scattered, making the sky appear bluer.\\n2. **Scattered light intensity**: The amount of scattered light can vary depending on factors like cloud cover, dust, water vapor, and pollution levels.\\n3. **Sunlight angle**: When the sun is low in the sky (e.g., at sunrise or sunset), it has to travel through more atmosphere, which scatters shorter wavelengths and makes the sky appear redder.\\n\\nSo, while the sky itself isn\\'t actually blue, our perception of its color can be influenced by a combination of atmospheric effects, refraction, and how we interpret the light that enters our eyes!\\n\\n(By the way, you might have been thinking of the phrase \"the sky is blue\" as a famous idiom or song lyric. In that case, it\\'s more about the poetic interpretation than a literal scientific fact.)'"
      ]
     },
     "execution_count": 12,
     "metadata": {},
     "output_type": "execute_result"
    }
   ],
   "source": [
    "call_llama(prompt=\"Why is the skye blue?\")"
   ]
  },
  {
   "cell_type": "markdown",
   "metadata": {},
   "source": [
    "# Create a LangChain LLM\n"
   ]
  },
  {
   "cell_type": "code",
   "execution_count": 14,
   "metadata": {},
   "outputs": [],
   "source": [
    "from langchain_core.language_models.llms import LLM\n",
    "\n",
    "class LLaMa(LLM):\n",
    "    def _call(self, prompt, **kwargs):\n",
    "        return call_llama(prompt)\n",
    "\n",
    "    @property\n",
    "    def _llm_type(self):\n",
    "        return \"llama-3.1-8b\""
   ]
  },
  {
   "cell_type": "markdown",
   "metadata": {},
   "source": [
    "# Integrating the RAG Agent\n"
   ]
  },
  {
   "cell_type": "code",
   "execution_count": null,
   "metadata": {},
   "outputs": [],
   "source": [
    "!pip install langchain-huggingface -q \n",
    "!pip install faiss-cpu -q "
   ]
  },
  {
   "cell_type": "code",
   "execution_count": 5,
   "metadata": {},
   "outputs": [],
   "source": [
    "from langchain.vectorstores import FAISS\n",
    "from langchain_huggingface import HuggingFaceEmbeddings\n",
    "\n",
    "documents = [\n",
    "    {\"content\": \"What is your return policy? ...\"},\n",
    "    {\"content\": \"How long does shipping take? ...\"},\n",
    "    # Add more documents as needed\n",
    "]\n",
    "\n",
    "texts = [doc[\"content\"] for doc in documents]\n",
    "\n",
    "retriever = FAISS.from_texts(\n",
    "    texts,\n",
    "    HuggingFaceEmbeddings(model_name=\"all-MiniLM-L6-v2\")\n",
    ").as_retriever(k=5)"
   ]
  },
  {
   "cell_type": "markdown",
   "metadata": {},
   "source": [
    "# Create the Prompt Template"
   ]
  },
  {
   "cell_type": "code",
   "execution_count": 6,
   "metadata": {},
   "outputs": [],
   "source": [
    "from langchain.prompts import ChatPromptTemplate, MessagesPlaceholder\n",
    "\n",
    "faq_template = \"\"\"\n",
    "You are a chat agent for my E-Commerce Company. As a chat agent, it is your duty to help the human with their inquiry and make them a happy customer.\n",
    "\n",
    "Help them, using the following context:\n",
    "<context>\n",
    "{context}\n",
    "</context>\n",
    "\"\"\"\n",
    "\n",
    "faq_prompt = ChatPromptTemplate.from_messages([\n",
    "    (\"system\", faq_template),\n",
    "    MessagesPlaceholder(\"messages\")\n",
    "])"
   ]
  },
  {
   "cell_type": "markdown",
   "metadata": {},
   "source": [
    "# Create Document and Retriever Chains\n"
   ]
  },
  {
   "cell_type": "code",
   "execution_count": 9,
   "metadata": {},
   "outputs": [],
   "source": [
    "from langchain.chains.combine_documents import create_stuff_documents_chain\n",
    "from langchain_core.runnables import RunnableParallel, RunnablePassthrough\n",
    "\n",
    "document_chain = create_stuff_documents_chain(LLaMa(), faq_prompt)\n",
    "\n",
    "def parse_retriever_input(params):\n",
    "    return params[\"messages\"][-1].content\n",
    "\n",
    "retrieval_chain = RunnablePassthrough.assign(\n",
    "    context=parse_retriever_input | retriever\n",
    ").assign(answer=document_chain)"
   ]
  },
  {
   "cell_type": "markdown",
   "metadata": {},
   "source": [
    "# Prompt Your RAG Agent\n"
   ]
  },
  {
   "cell_type": "code",
   "execution_count": 10,
   "metadata": {},
   "outputs": [
    {
     "name": "stdout",
     "output_type": "stream",
     "text": [
      "{'messages': [HumanMessage(content='I received a damaged item. I want my money back.')], 'context': [Document(page_content='What is your return policy? ...'), Document(page_content='How long does shipping take? ...')], 'answer': \"I'm so sorry to hear that you received a damaged item!\\n\\nFirst, let me help you with getting a refund. According to our return policy, if an item arrives damaged or is not as described, we will gladly offer a full refund or replacement.\\n\\nTo initiate the return process, I just need some information from you. Could you please confirm your order number and provide more details about the damage? This will help us expedite the process and get your refund processed quickly.\\n\\nOnce we receive the damaged item back (if possible) or verify the issue, we'll be happy to provide a full refund to the original payment method.\\n\\nIs there anything else I can assist you with regarding this return?\"}\n"
     ]
    }
   ],
   "source": [
    "from langchain.schema import HumanMessage\n",
    "\n",
    "response = retrieval_chain.invoke({\n",
    "    \"messages\": [\n",
    "        HumanMessage(\"I received a damaged item. I want my money back.\")\n",
    "    ]\n",
    "})\n",
    "\n",
    "print(response)"
   ]
  }
 ],
 "metadata": {
  "kernelspec": {
   "display_name": "ollamaenv",
   "language": "python",
   "name": "python3"
  },
  "language_info": {
   "codemirror_mode": {
    "name": "ipython",
    "version": 3
   },
   "file_extension": ".py",
   "mimetype": "text/x-python",
   "name": "python",
   "nbconvert_exporter": "python",
   "pygments_lexer": "ipython3",
   "version": "3.12.4"
  }
 },
 "nbformat": 4,
 "nbformat_minor": 2
}
